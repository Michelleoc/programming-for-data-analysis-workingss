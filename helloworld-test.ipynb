{
 "cells": [
  {
   "cell_type": "markdown",
   "id": "c9a4d085",
   "metadata": {},
   "source": [
    "***\n",
    "\n",
    "# Author : Michelle O'Connor"
   ]
  },
  {
   "cell_type": "code",
   "execution_count": null,
   "id": "60f9a080",
   "metadata": {},
   "outputs": [],
   "source": [
    "# testing github link"
   ]
  },
  {
   "cell_type": "code",
   "execution_count": 2,
   "id": "509166cd",
   "metadata": {},
   "outputs": [
    {
     "name": "stdout",
     "output_type": "stream",
     "text": [
      "hello world\n"
     ]
    }
   ],
   "source": [
    "print (\"hello world\")"
   ]
  },
  {
   "cell_type": "code",
   "execution_count": null,
   "id": "86f1bd95",
   "metadata": {},
   "outputs": [],
   "source": []
  }
 ],
 "metadata": {
  "kernelspec": {
   "display_name": "Python 3",
   "language": "python",
   "name": "python3"
  },
  "language_info": {
   "codemirror_mode": {
    "name": "ipython",
    "version": 3
   },
   "file_extension": ".py",
   "mimetype": "text/x-python",
   "name": "python",
   "nbconvert_exporter": "python",
   "pygments_lexer": "ipython3",
   "version": "3.8.8"
  }
 },
 "nbformat": 4,
 "nbformat_minor": 5
}
