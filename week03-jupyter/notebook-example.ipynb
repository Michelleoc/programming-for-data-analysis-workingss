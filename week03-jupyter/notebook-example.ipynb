{
 "cells": [
  {
   "cell_type": "markdown",
   "id": "205c65ac",
   "metadata": {},
   "source": [
    "### Thank you for viewing\n",
    "\n",
    "- Here's\n",
    "- a \n",
    "- list. "
   ]
  },
  {
   "cell_type": "code",
   "execution_count": 1,
   "id": "d404b42e",
   "metadata": {},
   "outputs": [],
   "source": [
    "import numpy as np"
   ]
  },
  {
   "cell_type": "code",
   "execution_count": null,
   "id": "a02a3c24",
   "metadata": {},
   "outputs": [],
   "source": []
  },
  {
   "cell_type": "code",
   "execution_count": 4,
   "id": "5d5a9ee8",
   "metadata": {},
   "outputs": [
    {
     "data": {
      "text/plain": [
       "148.7649720839688"
      ]
     },
     "execution_count": 4,
     "metadata": {},
     "output_type": "execute_result"
    }
   ],
   "source": [
    "np.random.uniform(0.0, 10.0)\n",
    "np.random.uniform(100.0, 200.0)"
   ]
  },
  {
   "cell_type": "code",
   "execution_count": 3,
   "id": "adf91296",
   "metadata": {},
   "outputs": [
    {
     "name": "stdout",
     "output_type": "stream",
     "text": [
      "8.819439956987615\n",
      "186.7069983454271\n"
     ]
    }
   ],
   "source": [
    "print(np.random.uniform(0.0, 10.0))\n",
    "print(np.random.uniform(100.0, 200.0))"
   ]
  },
  {
   "cell_type": "code",
   "execution_count": null,
   "id": "887e0b32",
   "metadata": {},
   "outputs": [],
   "source": []
  },
  {
   "cell_type": "code",
   "execution_count": null,
   "id": "e18a0d7d",
   "metadata": {},
   "outputs": [],
   "source": []
  },
  {
   "cell_type": "code",
   "execution_count": null,
   "id": "47514c44",
   "metadata": {},
   "outputs": [],
   "source": []
  },
  {
   "cell_type": "code",
   "execution_count": null,
   "id": "7dd0e850",
   "metadata": {},
   "outputs": [],
   "source": []
  }
 ],
 "metadata": {
  "kernelspec": {
   "display_name": "Python 3",
   "language": "python",
   "name": "python3"
  },
  "language_info": {
   "codemirror_mode": {
    "name": "ipython",
    "version": 3
   },
   "file_extension": ".py",
   "mimetype": "text/x-python",
   "name": "python",
   "nbconvert_exporter": "python",
   "pygments_lexer": "ipython3",
   "version": "3.8.8"
  }
 },
 "nbformat": 4,
 "nbformat_minor": 5
}
