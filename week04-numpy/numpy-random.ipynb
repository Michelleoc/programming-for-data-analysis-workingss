{
 "cells": [
  {
   "cell_type": "markdown",
   "id": "9fab1991",
   "metadata": {},
   "source": [
    "# The numpy.random package"
   ]
  },
  {
   "cell_type": "code",
   "execution_count": 1,
   "id": "98bf7d8f",
   "metadata": {},
   "outputs": [],
   "source": [
    "import numpy as np\n",
    "rng = np.random.default_rng()\n",
    "# rng random number generator"
   ]
  },
  {
   "cell_type": "code",
   "execution_count": 4,
   "id": "3388e8ac",
   "metadata": {},
   "outputs": [
    {
     "data": {
      "text/plain": [
       "array([0, 0, 1, 0, 1, 1, 0, 0, 0, 0], dtype=int64)"
      ]
     },
     "execution_count": 4,
     "metadata": {},
     "output_type": "execute_result"
    }
   ],
   "source": [
    "rng.integers(2, size=10)"
   ]
  },
  {
   "cell_type": "code",
   "execution_count": 10,
   "id": "e5a46ce1",
   "metadata": {},
   "outputs": [
    {
     "data": {
      "text/plain": [
       "array([[0, 0, 1, 2, 1, 0, 0],\n",
       "       [4, 3, 2, 2, 1, 1, 1],\n",
       "       [4, 4, 3, 3, 3, 4, 4]], dtype=int64)"
      ]
     },
     "execution_count": 10,
     "metadata": {},
     "output_type": "execute_result"
    }
   ],
   "source": [
    "rng.integers(5, size=(3, 7))\n",
    "# up to but not including the number 5\n",
    "# 3 = the number of arrays\n",
    "# 7 = the number of randon numbers generated"
   ]
  },
  {
   "cell_type": "code",
   "execution_count": 11,
   "id": "576b00f1",
   "metadata": {},
   "outputs": [
    {
     "data": {
      "text/plain": [
       "array([68,  1, 91, ..., 98, 47, 25], dtype=int64)"
      ]
     },
     "execution_count": 11,
     "metadata": {},
     "output_type": "execute_result"
    }
   ],
   "source": [
    "rng.integers(100, size=(10000))"
   ]
  },
  {
   "cell_type": "code",
   "execution_count": 13,
   "id": "87b17b35",
   "metadata": {},
   "outputs": [],
   "source": [
    "import matplotlib.pyplot as plt"
   ]
  },
  {
   "cell_type": "code",
   "execution_count": 18,
   "id": "de665432",
   "metadata": {},
   "outputs": [
    {
     "data": {
      "text/plain": [
       "array([23, 13, 38, ..., 60, 43, 88], dtype=int64)"
      ]
     },
     "execution_count": 18,
     "metadata": {},
     "output_type": "execute_result"
    }
   ],
   "source": [
    "x = rng.integers(100, size=(1000000))\n",
    "x"
   ]
  },
  {
   "cell_type": "code",
   "execution_count": 19,
   "id": "f45a7b3b",
   "metadata": {},
   "outputs": [
    {
     "data": {
      "text/plain": [
       "(array([ 99497., 100461., 100420., 100363., 100346.,  99966.,  99678.,\n",
       "         99568., 100215.,  99486.]),\n",
       " array([ 0. ,  9.9, 19.8, 29.7, 39.6, 49.5, 59.4, 69.3, 79.2, 89.1, 99. ]),\n",
       " <BarContainer object of 10 artists>)"
      ]
     },
     "execution_count": 19,
     "metadata": {},
     "output_type": "execute_result"
    },
    {
     "data": {
      "image/png": "[encoded data removed]",
      "text/plain": [
       "<Figure size 432x288 with 1 Axes>"
      ]
     },
     "metadata": {
      "needs_background": "light"
     },
     "output_type": "display_data"
    }
   ],
   "source": [
    "plt.hist(x)"
   ]
  },
  {
   "cell_type": "code",
   "execution_count": 20,
   "id": "610191db",
   "metadata": {},
   "outputs": [],
   "source": [
    "# sometimes the plot may not display\n",
    "# in order to get it to show try the following by entering the following 2 lines\n",
    "# %matplotlib inline\n",
    "# plt.show()"
   ]
  },
  {
   "cell_type": "code",
   "execution_count": null,
   "id": "d01dd132",
   "metadata": {},
   "outputs": [],
   "source": []
  },
  {
   "cell_type": "markdown",
   "id": "a332347e",
   "metadata": {},
   "source": [
    "## Random Uniform"
   ]
  },
  {
   "cell_type": "code",
   "execution_count": 24,
   "id": "97748cfd",
   "metadata": {},
   "outputs": [],
   "source": [
    "y =np.random.uniform(0,100,1000000)"
   ]
  },
  {
   "cell_type": "code",
   "execution_count": 25,
   "id": "37323006",
   "metadata": {},
   "outputs": [
    {
     "data": {
      "text/plain": [
       "(array([ 99782.,  99998., 100275.,  99941.,  99964.,  99398.,  99950.,\n",
       "        100338., 100440.,  99914.]),\n",
       " array([1.86477899e-04, 1.00001678e+01, 2.00001491e+01, 3.00001305e+01,\n",
       "        4.00001118e+01, 5.00000931e+01, 6.00000744e+01, 7.00000558e+01,\n",
       "        8.00000371e+01, 9.00000184e+01, 9.99999998e+01]),\n",
       " <BarContainer object of 10 artists>)"
      ]
     },
     "execution_count": 25,
     "metadata": {},
     "output_type": "execute_result"
    },
    {
     "data": {
      "image/png": "[encoded data removed]",
      "text/plain": [
       "<Figure size 432x288 with 1 Axes>"
      ]
     },
     "metadata": {
      "needs_background": "light"
     },
     "output_type": "display_data"
    }
   ],
   "source": [
    "plt.hist(y)"
   ]
  },
  {
   "cell_type": "code",
   "execution_count": null,
   "id": "703a0a5f",
   "metadata": {},
   "outputs": [],
   "source": []
  },
  {
   "cell_type": "markdown",
   "id": "8f53f739",
   "metadata": {},
   "source": [
    "## Normal Distribution"
   ]
  },
  {
   "cell_type": "code",
   "execution_count": 29,
   "id": "ea38ead5",
   "metadata": {},
   "outputs": [],
   "source": [
    "z = np.random.normal (0,0.1,1000) \n",
    "# 0 = numbers are centered around\n",
    "# 0.1 = is the spread of the numbers"
   ]
  },
  {
   "cell_type": "code",
   "execution_count": 30,
   "id": "93618920",
   "metadata": {},
   "outputs": [
    {
     "data": {
      "text/plain": [
       "(array([  7.,  31.,  76., 190., 251., 209., 154.,  59.,  20.,   3.]),\n",
       " array([-0.29859952, -0.2351583 , -0.17171708, -0.10827586, -0.04483464,\n",
       "         0.01860658,  0.0820478 ,  0.14548902,  0.20893024,  0.27237147,\n",
       "         0.33581269]),\n",
       " <BarContainer object of 10 artists>)"
      ]
     },
     "execution_count": 30,
     "metadata": {},
     "output_type": "execute_result"
    },
    {
     "data": {
      "image/png": "[encoded data removed]",
      "text/plain": [
       "<Figure size 432x288 with 1 Axes>"
      ]
     },
     "metadata": {
      "needs_background": "light"
     },
     "output_type": "display_data"
    }
   ],
   "source": [
    "plt.hist(z)\n",
    "# bell shaped curve"
   ]
  },
  {
   "cell_type": "code",
   "execution_count": null,
   "id": "9a4c9b3e",
   "metadata": {},
   "outputs": [],
   "source": []
  }
 ],
 "metadata": {
  "kernelspec": {
   "display_name": "Python 3",
   "language": "python",
   "name": "python3"
  },
  "language_info": {
   "codemirror_mode": {
    "name": "ipython",
    "version": 3
   },
   "file_extension": ".py",
   "mimetype": "text/x-python",
   "name": "python",
   "nbconvert_exporter": "python",
   "pygments_lexer": "ipython3",
   "version": "3.8.8"
  }
 },
 "nbformat": 4,
 "nbformat_minor": 5
}
